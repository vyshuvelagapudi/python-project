{
  "nbformat": 4,
  "nbformat_minor": 0,
  "metadata": {
    "colab": {
      "name": "Tuberculosis.ipynb",
      "provenance": []
    },
    "kernelspec": {
      "name": "python3",
      "display_name": "Python 3"
    },
    "language_info": {
      "name": "python"
    }
  },
  "cells": [
    {
      "cell_type": "code",
      "metadata": {
        "id": "6JEpuS-B6Gnd"
      },
      "source": [
        "import os\n",
        "import zipfile"
      ],
      "execution_count": null,
      "outputs": []
    },
    {
      "cell_type": "code",
      "metadata": {
        "colab": {
          "base_uri": "https://localhost:8080/"
        },
        "id": "AuDWaorm6H0E",
        "outputId": "d001461d-3638-4c67-9a80-71d548e367e3"
      },
      "source": [
        "from google.colab import drive\n",
        "drive.mount('/content/gdrive')"
      ],
      "execution_count": null,
      "outputs": [
        {
          "output_type": "stream",
          "name": "stdout",
          "text": [
            "Mounted at /content/gdrive\n"
          ]
        }
      ]
    },
    {
      "cell_type": "code",
      "source": [
        "import tensorflow as tf"
      ],
      "metadata": {
        "id": "dPJzPyaUcIVy"
      },
      "execution_count": null,
      "outputs": []
    },
    {
      "cell_type": "code",
      "metadata": {
        "id": "sDArEDea77_s"
      },
      "source": [
        "model = tf.keras.models.Sequential([\n",
        "                                    #Note that input shape is the desired size of the image 300*300 with 3 byes of color\n",
        "                                    #This is the first convolution\n",
        "                                    tf.keras.layers.Conv2D(16, (3,3), activation='relu',input_shape=(300,300,3)),\n",
        "                                    tf.keras.layers.MaxPooling2D(2,2),\n",
        "                                    #This is the second convolution\n",
        "                                    tf.keras.layers.Conv2D(32,(3,3),activation='relu'),\n",
        "                                    tf.keras.layers.MaxPooling2D(2,2),\n",
        "                                    #This is the third covolution\n",
        "                                    tf.keras.layers.Conv2D(64,(3,3),activation='relu'),\n",
        "                                    tf.keras.layers.MaxPooling2D(2,2),\n",
        "                                    #This is the fourth convolution\n",
        "                                    tf.keras.layers.Conv2D(64,(3,3),activation='relu'),\n",
        "                                    tf.keras.layers.MaxPooling2D(2,2),\n",
        "                                    #This is the fifth convolution\n",
        "                                    tf.keras.layers.Conv2D(64,(3,3),activation='relu'),\n",
        "                                    tf.keras.layers.MaxPooling2D(2,2),\n",
        "                                    #Flatten the resukts to feed into a DNN\n",
        "                                    tf.keras.layers.Flatten(),\n",
        "                                    #512 neuron hidden layer\n",
        "                                    tf.keras.layers.Dense(512, activation='relu'),\n",
        "                                    #Only 1 output neuron. It will contain a value from 0-1 \n",
        "                                    tf.keras.layers.Dense(1, activation='sigmoid')\n",
        "])"
      ],
      "execution_count": null,
      "outputs": []
    },
    {
      "cell_type": "code",
      "metadata": {
        "colab": {
          "base_uri": "https://localhost:8080/"
        },
        "id": "yc98c1E_7_3T",
        "outputId": "952abff5-4a21-48b9-ed79-4f38befcff48"
      },
      "source": [
        "model.summary()"
      ],
      "execution_count": null,
      "outputs": [
        {
          "output_type": "stream",
          "name": "stdout",
          "text": [
            "Model: \"sequential\"\n",
            "_________________________________________________________________\n",
            "Layer (type)                 Output Shape              Param #   \n",
            "=================================================================\n",
            "conv2d (Conv2D)              (None, 298, 298, 16)      448       \n",
            "_________________________________________________________________\n",
            "max_pooling2d (MaxPooling2D) (None, 149, 149, 16)      0         \n",
            "_________________________________________________________________\n",
            "conv2d_1 (Conv2D)            (None, 147, 147, 32)      4640      \n",
            "_________________________________________________________________\n",
            "max_pooling2d_1 (MaxPooling2 (None, 73, 73, 32)        0         \n",
            "_________________________________________________________________\n",
            "conv2d_2 (Conv2D)            (None, 71, 71, 64)        18496     \n",
            "_________________________________________________________________\n",
            "max_pooling2d_2 (MaxPooling2 (None, 35, 35, 64)        0         \n",
            "_________________________________________________________________\n",
            "conv2d_3 (Conv2D)            (None, 33, 33, 64)        36928     \n",
            "_________________________________________________________________\n",
            "max_pooling2d_3 (MaxPooling2 (None, 16, 16, 64)        0         \n",
            "_________________________________________________________________\n",
            "conv2d_4 (Conv2D)            (None, 14, 14, 64)        36928     \n",
            "_________________________________________________________________\n",
            "max_pooling2d_4 (MaxPooling2 (None, 7, 7, 64)          0         \n",
            "_________________________________________________________________\n",
            "flatten (Flatten)            (None, 3136)              0         \n",
            "_________________________________________________________________\n",
            "dense (Dense)                (None, 512)               1606144   \n",
            "_________________________________________________________________\n",
            "dense_1 (Dense)              (None, 1)                 513       \n",
            "=================================================================\n",
            "Total params: 1,704,097\n",
            "Trainable params: 1,704,097\n",
            "Non-trainable params: 0\n",
            "_________________________________________________________________\n"
          ]
        }
      ]
    },
    {
      "cell_type": "code",
      "metadata": {
        "id": "9kEkhvlT8Cmm"
      },
      "source": [
        "from tensorflow.keras.optimizers import RMSprop"
      ],
      "execution_count": null,
      "outputs": []
    },
    {
      "cell_type": "code",
      "metadata": {
        "colab": {
          "base_uri": "https://localhost:8080/"
        },
        "id": "H0aYiqlh8XNx",
        "outputId": "9c651faa-ca3c-4fb8-de73-82d6ab74260e"
      },
      "source": [
        "model.compile(loss='binary_crossentropy',\n",
        "              optimizer=RMSprop(lr=0.001),\n",
        "              metrics=['acc'])"
      ],
      "execution_count": null,
      "outputs": [
        {
          "output_type": "stream",
          "name": "stderr",
          "text": [
            "/usr/local/lib/python3.7/dist-packages/keras/optimizer_v2/optimizer_v2.py:356: UserWarning: The `lr` argument is deprecated, use `learning_rate` instead.\n",
            "  \"The `lr` argument is deprecated, use `learning_rate` instead.\")\n"
          ]
        }
      ]
    },
    {
      "cell_type": "code",
      "metadata": {
        "id": "nYL59r9X8ZJ8"
      },
      "source": [
        "from tensorflow.keras.preprocessing.image import ImageDataGenerator"
      ],
      "execution_count": null,
      "outputs": []
    },
    {
      "cell_type": "code",
      "metadata": {
        "id": "0Apc9QR58eKG"
      },
      "source": [
        "train_datagen = ImageDataGenerator(rescale=1/255)"
      ],
      "execution_count": null,
      "outputs": []
    },
    {
      "cell_type": "code",
      "metadata": {
        "colab": {
          "base_uri": "https://localhost:8080/"
        },
        "id": "sOl0XnRa8j8C",
        "outputId": "27a6c484-9ae6-4bf8-a76d-cba3b34dc52f"
      },
      "source": [
        "train_generator = train_datagen.flow_from_directory('/content/gdrive/MyDrive/chest',  # This is the source directory for training images\n",
        "        target_size=(300, 300),  # All images will be resized to 150x150\n",
        "        batch_size=32,\n",
        "        # Since we use binary_crossentropy loss, we need binary labels\n",
        "        class_mode='binary')"
      ],
      "execution_count": null,
      "outputs": [
        {
          "output_type": "stream",
          "name": "stdout",
          "text": [
            "Found 4200 images belonging to 2 classes.\n"
          ]
        }
      ]
    },
    {
      "cell_type": "code",
      "metadata": {
        "colab": {
          "base_uri": "https://localhost:8080/"
        },
        "id": "N7Y41VVb8xEv",
        "outputId": "02c5f156-51c7-44b6-e210-71bc4691866b"
      },
      "source": [
        "his=model.fit_generator(\n",
        "      train_generator,\n",
        "      steps_per_epoch=8,  \n",
        "      epochs=30,\n",
        "      verbose=1)"
      ],
      "execution_count": null,
      "outputs": [
        {
          "metadata": {
            "tags": null
          },
          "name": "stderr",
          "output_type": "stream",
          "text": [
            "/usr/local/lib/python3.7/dist-packages/keras/engine/training.py:1972: UserWarning: `Model.fit_generator` is deprecated and will be removed in a future version. Please use `Model.fit`, which supports generators.\n",
            "  warnings.warn('`Model.fit_generator` is deprecated and '\n"
          ]
        },
        {
          "output_type": "stream",
          "name": "stdout",
          "text": [
            "Epoch 1/30\n",
            "8/8 [==============================] - 20s 2s/step - loss: 0.7622 - acc: 0.8008\n",
            "Epoch 2/30\n",
            "8/8 [==============================] - 18s 2s/step - loss: 0.6393 - acc: 0.8359\n",
            "Epoch 3/30\n",
            "8/8 [==============================] - 18s 2s/step - loss: 0.4022 - acc: 0.8203\n",
            "Epoch 4/30\n",
            "8/8 [==============================] - 18s 2s/step - loss: 0.3306 - acc: 0.8008\n",
            "Epoch 5/30\n",
            "8/8 [==============================] - 18s 2s/step - loss: 0.2880 - acc: 0.8477\n",
            "Epoch 6/30\n",
            "8/8 [==============================] - 18s 2s/step - loss: 0.3641 - acc: 0.8359\n",
            "Epoch 7/30\n",
            "8/8 [==============================] - 17s 2s/step - loss: 0.2727 - acc: 0.8594\n",
            "Epoch 8/30\n",
            "8/8 [==============================] - 18s 2s/step - loss: 0.2621 - acc: 0.8945\n",
            "Epoch 9/30\n",
            "8/8 [==============================] - 16s 2s/step - loss: 0.2465 - acc: 0.8750\n",
            "Epoch 10/30\n",
            "8/8 [==============================] - 17s 2s/step - loss: 0.1143 - acc: 0.9531\n",
            "Epoch 11/30\n",
            "8/8 [==============================] - 17s 2s/step - loss: 0.1837 - acc: 0.9219\n",
            "Epoch 12/30\n",
            "8/8 [==============================] - 17s 2s/step - loss: 0.2951 - acc: 0.8711\n",
            "Epoch 13/30\n",
            "8/8 [==============================] - 17s 2s/step - loss: 0.2383 - acc: 0.8867\n",
            "Epoch 14/30\n",
            "8/8 [==============================] - 18s 2s/step - loss: 0.1935 - acc: 0.9102\n",
            "Epoch 15/30\n",
            "8/8 [==============================] - 18s 2s/step - loss: 0.1606 - acc: 0.9310\n",
            "Epoch 16/30\n",
            "8/8 [==============================] - 17s 2s/step - loss: 0.1359 - acc: 0.9375\n",
            "Epoch 17/30\n",
            "8/8 [==============================] - 17s 2s/step - loss: 0.1411 - acc: 0.9414\n",
            "Epoch 18/30\n",
            "8/8 [==============================] - 16s 2s/step - loss: 0.1755 - acc: 0.9310\n",
            "Epoch 19/30\n",
            "8/8 [==============================] - 17s 2s/step - loss: 0.1432 - acc: 0.9336\n",
            "Epoch 20/30\n",
            "8/8 [==============================] - 17s 2s/step - loss: 0.5058 - acc: 0.8398\n",
            "Epoch 21/30\n",
            "8/8 [==============================] - 18s 2s/step - loss: 0.1605 - acc: 0.9492\n",
            "Epoch 22/30\n",
            "8/8 [==============================] - 18s 2s/step - loss: 0.1706 - acc: 0.9414\n",
            "Epoch 23/30\n",
            "8/8 [==============================] - 18s 2s/step - loss: 0.1073 - acc: 0.9570\n",
            "Epoch 24/30\n",
            "8/8 [==============================] - 16s 2s/step - loss: 0.1168 - acc: 0.9569\n",
            "Epoch 25/30\n",
            "8/8 [==============================] - 18s 2s/step - loss: 0.0894 - acc: 0.9688\n",
            "Epoch 26/30\n",
            "8/8 [==============================] - 17s 2s/step - loss: 0.1989 - acc: 0.9180\n",
            "Epoch 27/30\n",
            "8/8 [==============================] - 18s 2s/step - loss: 0.4594 - acc: 0.9023\n",
            "Epoch 28/30\n",
            "8/8 [==============================] - 16s 2s/step - loss: 0.1296 - acc: 0.9526\n",
            "Epoch 29/30\n",
            "8/8 [==============================] - 17s 2s/step - loss: 0.0941 - acc: 0.9766\n",
            "Epoch 30/30\n",
            "8/8 [==============================] - 18s 2s/step - loss: 0.1180 - acc: 0.9531\n"
          ]
        }
      ]
    },
    {
      "cell_type": "code",
      "metadata": {
        "id": "sd8-7uchxHI8"
      },
      "source": [
        " model.save('/content/gdrive/MyDrive/CCNN_model.h5')"
      ],
      "execution_count": null,
      "outputs": []
    },
    {
      "cell_type": "code",
      "metadata": {
        "id": "DoDwu3blL01i"
      },
      "source": [
        ""
      ],
      "execution_count": null,
      "outputs": []
    }
  ]
}